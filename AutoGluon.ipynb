{
 "cells": [
  {
   "cell_type": "markdown",
   "id": "2c32c27e",
   "metadata": {},
   "source": [
    "Lets load initial dataset."
   ]
  },
  {
   "cell_type": "code",
   "execution_count": null,
   "id": "ccfd0291",
   "metadata": {},
   "outputs": [],
   "source": [
    "%%sh\n",
    "wget -N https://tomash.s3.eu-west-1.amazonaws.com/artifacts/bank-data.csv"
   ]
  },
  {
   "cell_type": "markdown",
   "id": "d1d17db6",
   "metadata": {},
   "source": [
    "Lets import some libraries and then split source dataset into two sets: training and validation. Validation set will contain 20% of initial source dataset. We will use later validation data set to validate how good (or bad ;) our model is. "
   ]
  },
  {
   "cell_type": "code",
   "execution_count": null,
   "id": "d73293b3",
   "metadata": {},
   "outputs": [],
   "source": [
    "import pandas as pd\n",
    "import numpy as np\n",
    "from sklearn.model_selection import train_test_split\n",
    "\n",
    "source_data = pd.read_csv(\"./bank-data.csv\")\n",
    "train_data, validation_data = train_test_split(source_data, test_size=0.2)\n",
    "\n",
    "train_data.to_csv(\"train.csv\", header=True, index=False)\n",
    "validation_data.to_csv(\"validation.csv\", header=True, index=False)"
   ]
  },
  {
   "cell_type": "markdown",
   "id": "0a2c189a",
   "metadata": {},
   "source": [
    "Installing AutoGluon"
   ]
  },
  {
   "cell_type": "code",
   "execution_count": null,
   "id": "bc0d766b",
   "metadata": {},
   "outputs": [],
   "source": [
    "!pip install -U pip\n",
    "!pip install -U setuptools wheel\n",
    "!pip install -U \"mxnet<2.0.0\"\n",
    "!pip install autogluon"
   ]
  },
  {
   "cell_type": "code",
   "execution_count": null,
   "id": "acd59a78",
   "metadata": {},
   "outputs": [],
   "source": [
    "from autogluon.tabular import TabularDataset, TabularPredictor\n",
    "train_data = TabularDataset('./train.csv')\n",
    "train_data.head()"
   ]
  },
  {
   "cell_type": "code",
   "execution_count": null,
   "id": "08cc387a",
   "metadata": {},
   "outputs": [],
   "source": [
    "train_data.count()"
   ]
  },
  {
   "cell_type": "code",
   "execution_count": null,
   "id": "a69e6c7f",
   "metadata": {},
   "outputs": [],
   "source": [
    "prediction_label = 'y'\n",
    "print(\"Summary of class variable: \\n\", train_data[prediction_label].describe())"
   ]
  },
  {
   "cell_type": "code",
   "execution_count": null,
   "id": "7ed4046f",
   "metadata": {},
   "outputs": [],
   "source": [
    "predictor = TabularPredictor(label=prediction_label).fit(train_data)"
   ]
  },
  {
   "cell_type": "markdown",
   "id": "01f20066",
   "metadata": {},
   "source": [
    "Lets validate how good (or bad ;) our model actually is. Lets compare validation data againts prediction from that model."
   ]
  },
  {
   "cell_type": "code",
   "execution_count": null,
   "id": "6df15db0",
   "metadata": {},
   "outputs": [],
   "source": [
    "test_data = TabularDataset('./validation.csv')\n",
    "y_test = test_data[prediction_label] \n",
    "clean_test_data = test_data.drop(columns=[prediction_label])  # delete label column to prove we're not cheating\n",
    "clean_test_data.head() # Lets see how they look like"
   ]
  },
  {
   "cell_type": "code",
   "execution_count": null,
   "id": "ee75bd9e",
   "metadata": {},
   "outputs": [],
   "source": [
    "y_pred = predictor.predict(clean_test_data)\n",
    "print(\"Predictions:  \\n\", y_pred)\n",
    "perf = predictor.evaluate_predictions(y_true=y_test, y_pred=y_pred, auxiliary_metrics=True)"
   ]
  },
  {
   "cell_type": "markdown",
   "id": "9ec98b11",
   "metadata": {},
   "source": [
    "Lets see how different AI models look like"
   ]
  },
  {
   "cell_type": "code",
   "execution_count": null,
   "id": "c277d925",
   "metadata": {},
   "outputs": [],
   "source": [
    "predictor.leaderboard(test_data, silent=True)"
   ]
  },
  {
   "cell_type": "markdown",
   "id": "11537c27",
   "metadata": {},
   "source": [
    "We can see 'probability' for each of class using PREDICT_PROBA method."
   ]
  },
  {
   "cell_type": "code",
   "execution_count": null,
   "id": "50b08187",
   "metadata": {},
   "outputs": [],
   "source": [
    "pred_probs = predictor.predict_proba(clean_test_data)\n",
    "pred_probs.head(5)"
   ]
  },
  {
   "cell_type": "markdown",
   "id": "4ed4b764",
   "metadata": {},
   "source": [
    "Or we can directly get predicted class"
   ]
  },
  {
   "cell_type": "code",
   "execution_count": null,
   "id": "582a7e5b",
   "metadata": {},
   "outputs": [],
   "source": [
    "pred_probs = predictor.predict(clean_test_data)\n",
    "pred_probs.head(5)"
   ]
  },
  {
   "cell_type": "markdown",
   "id": "900fa6c4",
   "metadata": {},
   "source": [
    "Some additional information about our trained models"
   ]
  },
  {
   "cell_type": "code",
   "execution_count": null,
   "id": "17a1b821",
   "metadata": {},
   "outputs": [],
   "source": [
    "results = predictor.fit_summary(show_plot=True)"
   ]
  },
  {
   "cell_type": "markdown",
   "id": "164bae91",
   "metadata": {},
   "source": [
    "We can also use specific AI model for our prediction"
   ]
  },
  {
   "cell_type": "code",
   "execution_count": null,
   "id": "144263b2",
   "metadata": {},
   "outputs": [],
   "source": [
    "predictor.predict(test_data, model='KNeighborsUnif')"
   ]
  },
  {
   "cell_type": "code",
   "execution_count": null,
   "id": "0b5620b1",
   "metadata": {},
   "outputs": [],
   "source": [
    "y_pred = predictor.predict(clean_test_data, model='KNeighborsUnif')\n",
    "print(\"Predictions:  \\n\", y_pred)\n",
    "perf = predictor.evaluate_predictions(y_true=y_test, y_pred=y_pred, auxiliary_metrics=True)"
   ]
  },
  {
   "cell_type": "code",
   "execution_count": null,
   "id": "95690a7a",
   "metadata": {},
   "outputs": [],
   "source": []
  }
 ],
 "metadata": {
  "kernelspec": {
   "display_name": "conda_python3",
   "language": "python",
   "name": "conda_python3"
  },
  "language_info": {
   "codemirror_mode": {
    "name": "ipython",
    "version": 3
   },
   "file_extension": ".py",
   "mimetype": "text/x-python",
   "name": "python",
   "nbconvert_exporter": "python",
   "pygments_lexer": "ipython3",
   "version": "3.6.13"
  }
 },
 "nbformat": 4,
 "nbformat_minor": 5
}
